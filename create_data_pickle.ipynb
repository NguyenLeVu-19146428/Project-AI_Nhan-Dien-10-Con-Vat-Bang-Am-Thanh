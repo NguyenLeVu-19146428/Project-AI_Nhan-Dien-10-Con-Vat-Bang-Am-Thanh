{
  "nbformat": 4,
  "nbformat_minor": 0,
  "metadata": {
    "colab": {
      "name": "create data pickle.ipynb",
      "provenance": [],
      "collapsed_sections": [],
      "mount_file_id": "1zYtmT-9j8DChch7pxyATN3FbfjAxxBDF",
      "authorship_tag": "ABX9TyMPgYGsY+6jitcb/26SbQel",
      "include_colab_link": true
    },
    "kernelspec": {
      "name": "python3",
      "display_name": "Python 3"
    },
    "language_info": {
      "name": "python"
    }
  },
  "cells": [
    {
      "cell_type": "markdown",
      "metadata": {
        "id": "view-in-github",
        "colab_type": "text"
      },
      "source": [
        "<a href=\"https://colab.research.google.com/github/NguyenLeVu-19146428/Project-AI_Nhan-Dien-10-Con-Vat-Bang-Am-Thanh/blob/main/create_data_pickle.ipynb\" target=\"_parent\"><img src=\"https://colab.research.google.com/assets/colab-badge.svg\" alt=\"Open In Colab\"/></a>"
      ]
    },
    {
      "cell_type": "code",
      "execution_count": null,
      "metadata": {
        "id": "9dZ82bkmkIIM",
        "colab": {
          "base_uri": "https://localhost:8080/"
        },
        "outputId": "c0a7b6a9-9e60-4d84-b647-356a955fa746"
      },
      "outputs": [
        {
          "output_type": "stream",
          "name": "stdout",
          "text": [
            "Drive already mounted at /content/drive; to attempt to forcibly remount, call drive.mount(\"/content/drive\", force_remount=True).\n"
          ]
        }
      ],
      "source": [
        "from google.colab import drive\n",
        "drive.mount('/content/drive')"
      ]
    },
    {
      "cell_type": "code",
      "source": [
        "pip install pickle5"
      ],
      "metadata": {
        "colab": {
          "base_uri": "https://localhost:8080/"
        },
        "id": "WgwTyMoPcjfT",
        "outputId": "47cfae57-fe86-4d81-eef7-1ac6a90840a0"
      },
      "execution_count": null,
      "outputs": [
        {
          "output_type": "stream",
          "name": "stdout",
          "text": [
            "Looking in indexes: https://pypi.org/simple, https://us-python.pkg.dev/colab-wheels/public/simple/\n",
            "Collecting pickle5\n",
            "  Downloading pickle5-0.0.12-cp37-cp37m-manylinux_2_5_x86_64.manylinux1_x86_64.whl (256 kB)\n",
            "\u001b[K     |████████████████████████████████| 256 kB 15.5 MB/s \n",
            "\u001b[?25hInstalling collected packages: pickle5\n",
            "Successfully installed pickle5-0.0.12\n"
          ]
        }
      ]
    },
    {
      "cell_type": "code",
      "source": [
        "pip install glob2"
      ],
      "metadata": {
        "colab": {
          "base_uri": "https://localhost:8080/"
        },
        "id": "PrQGrrupxuAu",
        "outputId": "50fdfe70-0ca0-4d26-eb9b-9615cf70c20b"
      },
      "execution_count": null,
      "outputs": [
        {
          "output_type": "stream",
          "name": "stdout",
          "text": [
            "Looking in indexes: https://pypi.org/simple, https://us-python.pkg.dev/colab-wheels/public/simple/\n",
            "Requirement already satisfied: glob2 in /usr/local/lib/python3.7/dist-packages (0.7)\n"
          ]
        }
      ]
    },
    {
      "cell_type": "code",
      "source": [
        "pip install opencv-python"
      ],
      "metadata": {
        "colab": {
          "base_uri": "https://localhost:8080/"
        },
        "id": "JcZIfaaNx0Dt",
        "outputId": "d9bd2f90-3c48-4766-e838-b74b8aaac87c"
      },
      "execution_count": null,
      "outputs": [
        {
          "output_type": "stream",
          "name": "stdout",
          "text": [
            "Looking in indexes: https://pypi.org/simple, https://us-python.pkg.dev/colab-wheels/public/simple/\n",
            "Requirement already satisfied: opencv-python in /usr/local/lib/python3.7/dist-packages (4.1.2.30)\n",
            "Requirement already satisfied: numpy>=1.14.5 in /usr/local/lib/python3.7/dist-packages (from opencv-python) (1.21.6)\n"
          ]
        }
      ]
    },
    {
      "cell_type": "code",
      "source": [
        "import cv2\n",
        "import glob\n",
        "import numpy as np\n",
        "import pickle   \n",
        "x_train = []\n",
        "y_train = []\n",
        "x_test = []\n",
        "y_test = []\n",
        "\n",
        "#Data Train\n",
        "for filename in glob.glob(\"../content/drive/MyDrive/FINAL_PROJECT_AI/data/Data/Data_train/bird/*.png\"):\n",
        "    img = cv2.resize(cv2.imread(filename), (250,250))\n",
        "    x_train.append(img)\n",
        "    y_train.append(0)\n",
        "\n",
        "for filename in glob.glob(\"../content/drive/MyDrive/FINAL_PROJECT_AI/data/Data/Data_train/cat/*.png\"):\n",
        "    img = cv2.resize(cv2.imread(filename), (250,250))\n",
        "    x_train.append(img)\n",
        "    y_train.append(1)\n",
        "\n",
        "for filename in glob.glob(\"../content/drive/MyDrive/FINAL_PROJECT_AI/data/Data/Data_train/cow/*.png\"):\n",
        "    img = cv2.resize(cv2.imread(filename), (250,250))\n",
        "    x_train.append(img)\n",
        "    y_train.append(2)\n",
        "\n",
        "for filename in glob.glob(\"../content/drive/MyDrive/FINAL_PROJECT_AI/data/Data/Data_train/cricket/*.png\"):\n",
        "    img = cv2.resize(cv2.imread(filename), (250,250))\n",
        "    x_train.append(img)\n",
        "    y_train.append(3)\n",
        "  \n",
        "for filename in glob.glob(\"../content/drive/MyDrive/FINAL_PROJECT_AI/data/Data/Data_train/dog/*.png\"):\n",
        "    img = cv2.resize(cv2.imread(filename), (250,250))\n",
        "    x_train.append(img)\n",
        "    y_train.append(4)\n",
        "\n",
        "for filename in glob.glob(\"../content/drive/MyDrive/FINAL_PROJECT_AI/data/Data/Data_train/gecko/*.png\"):\n",
        "    img = cv2.resize(cv2.imread(filename), (250,250))\n",
        "    x_train.append(img)\n",
        "    y_train.append(5)\n",
        "\n",
        "for filename in glob.glob(\"../content/drive/MyDrive/FINAL_PROJECT_AI/data/Data/Data_train/goat/*.png\"):\n",
        "    img = cv2.resize(cv2.imread(filename), (250,250))\n",
        "    x_train.append(img)\n",
        "    y_train.append(6)\n",
        "\n",
        "for filename in glob.glob(\"../content/drive/MyDrive/FINAL_PROJECT_AI/data/Data/Data_train/horse/*.png\"):\n",
        "    img = cv2.resize(cv2.imread(filename), (250,250))\n",
        "    x_train.append(img)\n",
        "    y_train.append(7)\n",
        "\n",
        "for filename in glob.glob(\"../content/drive/MyDrive/FINAL_PROJECT_AI/data/Data/Data_train/lion/*.png\"):\n",
        "    img = cv2.resize(cv2.imread(filename), (250,250))\n",
        "    x_train.append(img)\n",
        "    y_train.append(8)\n",
        "\n",
        "for filename in glob.glob(\"../content/drive/MyDrive/FINAL_PROJECT_AI/data/Data/Data_train/squirrel/*.png\"):\n",
        "    img = cv2.resize(cv2.imread(filename), (250,250))\n",
        "    x_train.append(img)\n",
        "    y_train.append(9)\n",
        "\n",
        "# Data test\n",
        "for filename in glob.glob(\"../content/drive/MyDrive/FINAL_PROJECT_AI/data/Data/Data_test/Bird/*.png\"):\n",
        "    img = cv2.resize(cv2.imread(filename), (250,250))\n",
        "    x_test.append(img)\n",
        "    y_test.append(0)\n",
        "\n",
        "for filename in glob.glob(\"../content/drive/MyDrive/FINAL_PROJECT_AI/data/Data/Data_test/Cat/*.png\"):\n",
        "    img = cv2.resize(cv2.imread(filename), (250,250))\n",
        "    x_test.append(img)\n",
        "    y_test.append(1)\n",
        "\n",
        "for filename in glob.glob(\"../content/drive/MyDrive/FINAL_PROJECT_AI/data/Data/Data_test/Cow/*.png\"):\n",
        "    img = cv2.resize(cv2.imread(filename), (250,250))\n",
        "    x_test.append(img)\n",
        "    y_test.append(2)\n",
        "\n",
        "for filename in glob.glob(\"../content/drive/MyDrive/FINAL_PROJECT_AI/data/Data/Data_test/Cricket/*.png\"):\n",
        "    img = cv2.resize(cv2.imread(filename), (250,250))\n",
        "    x_test.append(img)\n",
        "    y_test.append(3)\n",
        "  \n",
        "for filename in glob.glob(\"../content/drive/MyDrive/FINAL_PROJECT_AI/data/Data/Data_test/Dog/*.png\"):\n",
        "    img = cv2.resize(cv2.imread(filename), (250,250))\n",
        "    x_test.append(img)\n",
        "    y_test.append(4)\n",
        "\n",
        "for filename in glob.glob(\"../content/drive/MyDrive/FINAL_PROJECT_AI/data/Data/Data_test/Gecko/*.png\"):\n",
        "    img = cv2.resize(cv2.imread(filename), (250,250))\n",
        "    x_test.append(img)\n",
        "    y_test.append(5)\n",
        "\n",
        "for filename in glob.glob(\"../content/drive/MyDrive/FINAL_PROJECT_AI/data/Data/Data_test/Goat/*.png\"):\n",
        "    img = cv2.resize(cv2.imread(filename), (250,250))\n",
        "    x_test.append(img)\n",
        "    y_test.append(6)\n",
        "\n",
        "for filename in glob.glob(\"../content/drive/MyDrive/FINAL_PROJECT_AI/data/Data/Data_test/Horse/*.png\"):\n",
        "    img = cv2.resize(cv2.imread(filename), (250,250))\n",
        "    x_test.append(img)\n",
        "    y_test.append(7)\n",
        "\n",
        "for filename in glob.glob(\"../content/drive/MyDrive/FINAL_PROJECT_AI/data/Data/Data_test/Lion/*.png\"):\n",
        "    img = cv2.resize(cv2.imread(filename), (250,250))\n",
        "    x_test.append(img)\n",
        "    y_test.append(8)\n",
        "\n",
        "for filename in glob.glob(\"../content/drive/MyDrive/FINAL_PROJECT_AI/data/Data/Data_test/Squirrel/*.png\"):\n",
        "    img = cv2.resize(cv2.imread(filename), (250,250))\n",
        "    x_test.append(img)\n",
        "    y_test.append(9)\n",
        "\n",
        "x_train = np.array(x_train)\n",
        "y_train = np.array(y_train)\n",
        "\n",
        "x_test = np.array(x_test)\n",
        "y_test = np.array(y_test)\n",
        "print(' Data train')\n",
        "print (x_train.shape)\n",
        "print (y_train.shape)\n",
        "print(' Data test')\n",
        "print (x_test.shape)\n",
        "print (y_test.shape)\n",
        "\n",
        "with open(\"../content/drive/MyDrive/FINAL_PROJECT_AI/dataset.pickle\", \"wb\") as f:\n",
        "        pickle.dump((x_train, y_train), f)\n",
        "        pickle.dump((x_test, y_test), f)\n",
        "print ('Create Data Finish')"
      ],
      "metadata": {
        "colab": {
          "base_uri": "https://localhost:8080/"
        },
        "id": "gMwO-iYyxa2e",
        "outputId": "2dedcbe8-839a-47db-f21f-cb5ff574cfb1"
      },
      "execution_count": null,
      "outputs": [
        {
          "output_type": "stream",
          "name": "stdout",
          "text": [
            " Data train\n",
            "(1913, 250, 250, 3)\n",
            "(1913,)\n",
            " Data test\n",
            "(1147, 250, 250, 3)\n",
            "(1147,)\n",
            "Create Data Finish\n"
          ]
        }
      ]
    }
  ]
}