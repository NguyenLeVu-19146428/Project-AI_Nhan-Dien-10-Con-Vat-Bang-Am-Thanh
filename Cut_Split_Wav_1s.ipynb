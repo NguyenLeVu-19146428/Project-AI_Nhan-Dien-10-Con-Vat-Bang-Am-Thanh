{
  "nbformat": 4,
  "nbformat_minor": 0,
  "metadata": {
    "colab": {
      "name": "Cut Split Wav 1s.ipynb",
      "provenance": [],
      "collapsed_sections": [],
      "mount_file_id": "1aY0gJCMBE8BtC0D5g1GjDaHVMI7V73X9",
      "authorship_tag": "ABX9TyPftixKDLSaMiZZ5L+x4+Kq",
      "include_colab_link": true
    },
    "kernelspec": {
      "name": "python3",
      "display_name": "Python 3"
    },
    "language_info": {
      "name": "python"
    }
  },
  "cells": [
    {
      "cell_type": "markdown",
      "metadata": {
        "id": "view-in-github",
        "colab_type": "text"
      },
      "source": [
        "<a href=\"https://colab.research.google.com/github/NguyenLeVu-19146428/Project-AI_Nhan-Dien-10-Con-Vat-Bang-Am-Thanh/blob/main/Cut_Split_Wav_1s.ipynb\" target=\"_parent\"><img src=\"https://colab.research.google.com/assets/colab-badge.svg\" alt=\"Open In Colab\"/></a>"
      ]
    },
    {
      "cell_type": "code",
      "execution_count": null,
      "metadata": {
        "id": "GwFoI4_MVJr4",
        "colab": {
          "base_uri": "https://localhost:8080/"
        },
        "outputId": "d68e0c97-7a13-4720-bf72-8bf160e2bf90"
      },
      "outputs": [
        {
          "output_type": "stream",
          "name": "stdout",
          "text": [
            "Looking in indexes: https://pypi.org/simple, https://us-python.pkg.dev/colab-wheels/public/simple/\n",
            "Collecting pydub\n",
            "  Downloading pydub-0.25.1-py2.py3-none-any.whl (32 kB)\n",
            "Installing collected packages: pydub\n",
            "Successfully installed pydub-0.25.1\n"
          ]
        }
      ],
      "source": [
        "pip install pydub"
      ]
    },
    {
      "cell_type": "code",
      "source": [
        "from pydub import AudioSegment\n",
        "from pydub.utils import make_chunks\n",
        "\n",
        "myaudio = AudioSegment.from_file(\"../content/drive/MyDrive/FINAL_PROJECT_AI/data/wav cut/lion/3_lion.wav\" , \"wav\") \n",
        "chunk_length_ms = 1000 # pydub calculates in millisec\n",
        "chunks = make_chunks(myaudio, chunk_length_ms) #Make chunks of one sec\n",
        "\n",
        "#Export all of the individual chunks as wav files\n",
        "\n",
        "for i, chunk in enumerate(chunks):\n",
        "    chunk_name = \"../content/drive/MyDrive/FINAL_PROJECT_AI/data/wav_giao_dien/lion/lion_{0}.wav\".format(i)\n",
        "    chunk.export(chunk_name, format=\"wav\")\n",
        "print('Finish')"
      ],
      "metadata": {
        "colab": {
          "base_uri": "https://localhost:8080/"
        },
        "id": "qTX3w0iLqD97",
        "outputId": "34971074-a0ce-49dd-a236-d2d36267b25e"
      },
      "execution_count": null,
      "outputs": [
        {
          "output_type": "stream",
          "name": "stdout",
          "text": [
            "Finish\n"
          ]
        }
      ]
    }
  ]
}